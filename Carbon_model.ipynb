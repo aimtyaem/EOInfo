{
  "nbformat": 4,
  "nbformat_minor": 0,
  "metadata": {
    "colab": {
      "provenance": [],
      "gpuType": "T4",
      "mount_file_id": "1ozU1z0KYw5ZJl-bteEs4v3efUvzCQvyf",
      "authorship_tag": "ABX9TyM2xrKSjStBpEb3KdRkRNW+",
      "include_colab_link": true
    },
    "kernelspec": {
      "name": "python3",
      "display_name": "Python 3"
    },
    "language_info": {
      "name": "python"
    },
    "accelerator": "GPU"
  },
  "cells": [
    {
      "cell_type": "markdown",
      "metadata": {
        "id": "view-in-github",
        "colab_type": "text"
      },
      "source": [
        "<a href=\"https://colab.research.google.com/github/aimtyaem/EOInfo/blob/main/Carbon_model.ipynb\" target=\"_parent\"><img src=\"https://colab.research.google.com/assets/colab-badge.svg\" alt=\"Open In Colab\"/></a>"
      ]
    },
    {
      "cell_type": "code",
      "source": [
        "\n",
        "import pandas as pd\n",
        "\n",
        "class CarbonFootprintAnalyzer:\n",
        "    def __init__(self, energy_costs_file, grid_emissions_file, aws_coefficients_file):\n",
        "        self.energy_costs = pd.read_csv(energy_costs_file)\n",
        "        self.grid_factors = pd.read_csv(grid_emissions_file)\n",
        "        self.aws_coefficients = pd.read_csv(aws_coefficients_file)\n",
        "\n",
        "    def classify_data(self):\n",
        "        \"\"\"Classify the different CSV datasets into unified structure.\"\"\"\n",
        "        # Clean and transform energy costs data\n",
        "        self.energy_costs['cost_per_unit'] = self.energy_costs['cost_per_unit'].str.replace('$', '').astype(float)\n",
        "\n",
        "        # Classify AWS coefficients\n",
        "        aws_architectures = self.aws_coefficients[['Architecture', 'Min Watts', 'Max Watts']].copy()\n",
        "        aws_architectures['Watts Range'] = aws_architectures.apply(\n",
        "            lambda x: f\"{x['Min Watts']:.2f}-{x['Max Watts']:.2f} W\", axis=1\n",
        "        )\n",
        "\n",
        "        # Classify grid emission factors\n",
        "        grid_factors_clean = self.grid_factors[['Region', 'emissions_tCO2e', 'energy_source']].copy()\n",
        "        grid_factors_clean['Type'] = 'Cloud Infrastructure'\n",
        "\n",
        "        return {\n",
        "            'energy_costs': self.energy_costs,\n",
        "            'aws_architectures': aws_architectures,\n",
        "            'grid_emissions': grid_factors_clean\n",
        "        }\n",
        "\n",
        "    def generate_report(self, business_name, aws_usage=None):\n",
        "        \"\"\"Generate markdown report with classified data.\"\"\"\n",
        "        classified = self.classify_data()\n",
        "\n",
        "        md = f\"# Carbon Footprint Report for {business_name}\\n\\n\"\n",
        "\n",
        "        # Energy Costs Section\n",
        "        md += \"## Energy Cost Analysis\\n\"\n",
        "        md += \"| Energy Source | Cost per Unit |\\n|---------------|-------------|\\n\"\n",
        "        for _, row in classified['energy_costs'].iterrows():\n",
        "            md += f\"| {row['energy_source']} | ${row['cost_per_unit']:.2f} |\\n\"\n",
        "\n",
        "        # AWS Emissions Section\n",
        "        md += \"\\n## Cloud Infrastructure Profile\\n\"\n",
        "        md += \"### AWS Region Emissions Factors\\n\"\n",
        "        md += \"| Region | Emissions Factor (tCO2e) | Data Source |\\n|--------|--------------------------|-------------|\\n\"\n",
        "        for _, row in classified['grid_emissions'].iterrows():\n",
        "            md += f\"| {row['Region']} | {row['emissions_tCO2e']:.6f} | {row['energy_source']} |\\n\"\n",
        "\n",
        "        # Hardware Efficiency Section\n",
        "        md += \"\\n### Server Architecture Efficiency\\n\"\n",
        "        md += \"| Architecture | Power Consumption Range |\\n|--------------|--------------------------|\\n\"\n",
        "        for _, row in classified['aws_architectures'].iterrows():\n",
        "            md += f\"| {row['Architecture']} | {row['Watts Range']} |\\n\"\n",
        "\n",
        "        # Recommendations Section\n",
        "        md += \"\\n## Optimization Recommendations\\n\"\n",
        "        md += (\"1. **Region Optimization**: Consider shifting workloads to lower-emission regions like eu-north-1\\n\"\n",
        "               \"2. **Architecture Upgrade**: Migrate to Graviton-based instances for better energy efficiency\\n\"\n",
        "               \"3. **Renewable Energy**: Explore AWS Renewable Energy Programs for carbon offset\\n\"\n",
        "               \"4. **Instance Right-Sizing**: Use compute-optimized architectures for energy-intensive workloads\")\n",
        "\n",
        "        return md\n",
        "\n",
        "\n",
        "# Usage Example\n",
        "analyzer = CarbonFootprintAnalyzer(\n",
        "    energy_costs_file='/content/drive/MyDrive/Colab Notebooks/energy_costs.csv',\n",
        "    grid_emissions_file='/content/drive/MyDrive/Colab Notebooks/grid-emissions-factors-aws.csv',\n",
        "    aws_coefficients_file='/content/drive/MyDrive/Colab Notebooks/coefficients-aws-use.csv'\n",
        ")\n",
        "\n",
        "report = analyzer.generate_report(\n",
        "    business_name=\"CloudTech Solutions\",\n",
        "    aws_usage={'region': 'us-east-1', 'hours': 8760}\n",
        ")\n",
        "\n",
        "with open(\"cloud_carbon_report.md\", \"w\") as f:\n",
        "    f.write(report)"
      ],
      "metadata": {
        "id": "CfASm5ik4e26"
      },
      "execution_count": 1,
      "outputs": []
    }
  ]
}